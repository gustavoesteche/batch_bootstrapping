{
 "cells": [
  {
   "cell_type": "markdown",
   "metadata": {},
   "source": [
    "### Objective: Implement the trace between quotient ciclotomyc rings using the sum of all automorphisms"
   ]
  },
  {
   "cell_type": "markdown",
   "metadata": {},
   "source": [
    "The automorphisms that will be used for computing the trace will be described by \n",
    "\n",
    "$$ \\sigma_i(x) = x^{ip^{m-1} + 1}$$  \n",
    "\n",
    "Which in the latex can be seen that summing these automorphisms filters the exponents multiple to the prime $p$, and multiply each component by $p$. More formally, being $f(x) \\in  \\mathbb{Z}/<\\phi_n(x)>$  and $f'(x)$ being the $f(x)$ with $x^i$ if, and only if, $p|i$:\n",
    "$$ \\sum_{i \\in \\mathbb{Z_p}} \\sigma_i(f(x)) = p f'(x)$$"
   ]
  },
  {
   "cell_type": "code",
   "execution_count": null,
   "metadata": {},
   "outputs": [],
   "source": [
    "# Only run this cell once to get to the right directory\n",
    "import os\n",
    "os.chdir('../')\n",
    "print(f\"Our new root directory is: {os.getcwd()}\")"
   ]
  },
  {
   "cell_type": "code",
   "execution_count": null,
   "metadata": {},
   "outputs": [],
   "source": [
    "# import the trace library\n",
    "load(\"trace_lib.sage\")"
   ]
  },
  {
   "cell_type": "code",
   "execution_count": null,
   "metadata": {},
   "outputs": [],
   "source": [
    "from time import perf_counter \n",
    "\n",
    "Zx = PolynomialRing(ZZ, 'x')\n",
    "\n",
    "def main():\n",
    "    R = PolynomialRing(ZZ, 'x')\n",
    "\n",
    "    def test(p, m, test_size): \n",
    "        assert m < 30, \"since the operation is exp(m), this size of m would take too long for testing\"\n",
    "        euler_phi_pm = (p-1) * p^(m-1)\n",
    "\n",
    "        start_time = perf_counter()\n",
    "        for test_number in range(test_size):\n",
    "            poly = Zx.random_element(euler_phi_pm - 1)  \n",
    "            poly_trivial = trivial_trace_pm_to_pm_1(p, m, poly)\n",
    "            poly = Trace_pm_to_pm_1(p, m, poly)   \n",
    "            assert poly == poly_trivial, \"Test {}/{} Failed \\n trivial {}  \\n calculated {}\".format(test_number+1, test_size, poly_trivial, poly)\n",
    "    \n",
    "        end_time  = perf_counter()\n",
    "        print(\"Test completed, time elapsed: {:2f}\".format(end_time - start_time))\n",
    "    \n",
    "    def test_multiple(p_range, m_max, tests = 10, test_size = 10):\n",
    "        for i in range(tests):\n",
    "            p = random_prime(p_range)\n",
    "            m = ZZ.random_element(1, m_max)\n",
    "            print(\"Teste {}:\".format(i+1))\n",
    "            print(\"Prime p = {}, exponent m = {}\".format(p, m))\n",
    "            test(p, m, test_size)\n",
    "    \n",
    "    test_multiple(p_range = 11, m_max = 5, tests = 5, test_size = 2)\n",
    "        \n",
    "\n",
    "if __name__ == \"__main__\":\n",
    "    main()"
   ]
  },
  {
   "cell_type": "code",
   "execution_count": 5,
   "metadata": {},
   "outputs": [
    {
     "name": "stdout",
     "output_type": "stream",
     "text": [
      "Teste 1:\n",
      "Prime p = 2, exponent m = 1\n",
      "Test completed, time elapsed: 0.000826\n",
      "Teste 2:\n",
      "Prime p = 5, exponent m = 2\n",
      "Test completed, time elapsed: 0.067916\n",
      "Teste 3:\n",
      "Prime p = 2, exponent m = 3\n",
      "Test completed, time elapsed: 0.007149\n",
      "Teste 4:\n",
      "Prime p = 5, exponent m = 1\n",
      "Test completed, time elapsed: 0.004638\n",
      "Teste 5:\n",
      "Prime p = 2, exponent m = 1\n",
      "Test completed, time elapsed: 0.000721\n"
     ]
    }
   ],
   "source": [
    "from time import perf_counter \n",
    "\n",
    "Zx = PolynomialRing(ZZ, 'x')\n",
    "\n",
    "def main():\n",
    "    def test(p, m, test_size): \n",
    "        assert m < 30, \"since the operation is exp(m), this size of m would take too long for testing\"\n",
    "        euler_phi_pm = (p-1) * p^(m-1)\n",
    "\n",
    "        start_time = perf_counter()\n",
    "        for test_number in range(test_size):\n",
    "            poly = Zx.random_element(euler_phi_pm - 1)  \n",
    "            poly_trivial = trivial_trace_m_to_1(poly, p** m)\n",
    "            poly = trace_pm_to_1(p, m, poly)   \n",
    "            assert poly == poly_trivial, \"Test {}/{} Failed \\n trivial {}  \\n calculated {}\".format(test_number+1, test_size, poly_trivial, poly)\n",
    "    \n",
    "        end_time  = perf_counter()\n",
    "        print(\"Test completed, time elapsed: {:2f}\".format(end_time - start_time))\n",
    "    \n",
    "    def test_multiple(p_range, m_max, tests = 10, test_size = 10):\n",
    "        for i in range(tests):\n",
    "            p = random_prime(p_range)\n",
    "            m = ZZ.random_element(1, m_max)\n",
    "            print(\"Teste {}:\".format(i+1))\n",
    "            print(\"Prime p = {}, exponent m = {}\".format(p, m))\n",
    "            test(p, m, test_size)\n",
    "    \n",
    "    test_multiple(p_range = 11, m_max = 5, tests = 5, test_size = 2)\n",
    "        \n",
    "\n",
    "if __name__ == \"__main__\":\n",
    "    main()"
   ]
  },
  {
   "cell_type": "markdown",
   "metadata": {},
   "source": [
    "### sources \n",
    "\n",
    "* https://en.wikipedia.org/wiki/Cyclotomic_polynomial\n",
    "\n",
    "* https://perso.eleves.ens-rennes.fr/people/pierre.le-barbenchon/documents/M1.pdf \n",
    " \n",
    "* https://dec41.user.srcf.net/h/II_M/galois_theory/4_2\n"
   ]
  }
 ],
 "metadata": {
  "kernelspec": {
   "display_name": "SageMath 9.5",
   "language": "sage",
   "name": "sagemath"
  },
  "language_info": {
   "codemirror_mode": {
    "name": "ipython",
    "version": 3
   },
   "file_extension": ".py",
   "mimetype": "text/x-python",
   "name": "sage",
   "nbconvert_exporter": "python",
   "pygments_lexer": "ipython3",
   "version": "3.10.12"
  }
 },
 "nbformat": 4,
 "nbformat_minor": 2
}
