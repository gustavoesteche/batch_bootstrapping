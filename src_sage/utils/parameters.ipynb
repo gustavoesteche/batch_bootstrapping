{
 "cells": [
  {
   "cell_type": "markdown",
   "id": "71b3e565",
   "metadata": {},
   "source": [
    "#### Complexidade de Parâmetros Recomendada \n",
    "* $n = O(\\lambda)$\n",
    "* $N = O(n)$\n",
    "* $q = \\tilde{O}(\\sqrt{n})$\n",
    "* $r = O(\\sqrt{N/q})$\n",
    "\n",
    "#### Relações necessárias \n",
    "* Corretude Bootstrapping: $Q > C n r q N \\sqrt{N \\log Q} E$ onde $C$ é uma constante com valor mensurável\n",
    "* Parâmetro de segurança RGSW: a razão $\\frac{N}{\\log Q}$ deve permanecer constante "
   ]
  },
  {
   "cell_type": "code",
   "execution_count": 1,
   "id": "b1665be0",
   "metadata": {},
   "outputs": [],
   "source": [
    "from math import log2, ceil, sqrt\n",
    "\n",
    "def bootstrapping_error_check(Ql, n, r, q, N, E, C):\n",
    "    return Ql > 4*C*n*r*q*N*sqrt(N*log2(Ql)) * E\n",
    "\n",
    "def sec_parameter_check(N, Q):\n",
    "    print(6000/128)\n",
    "    print(N / log2(Q))\n",
    "    print(log2(Q))\n",
    "    return ceil(N / log2(Q)) == ceil(6000/128)\n",
    "\n",
    "def check(Ql, n, r, q, N, E, C):\n",
    "    print(sec_parameter_check(N, Ql))\n",
    "    print(bootstrapping_error_check(Ql, n, r, q, N, E, C)) "
   ]
  },
  {
   "cell_type": "code",
   "execution_count": 2,
   "id": "cd4019d5",
   "metadata": {},
   "outputs": [],
   "source": [
    "def calculate_parameters(q, p2, n2, p3, n3, constant):\n",
    "    r = min(p2**(n2-1)*(p2-1), p3**(n3-1)*(p3-1))\n",
    "    N = (q-1) * p2**(n2-1)*(p2-1) * p3**(n3-1)*(p3-1)\n",
    "    logQ = N / constant\n",
    "    Ql = 2**logQ\n",
    "    n = 500\n",
    "    if (bootstrapping_error_check(Ql, n, r, q, N, 10, 1)):\n",
    "        return log2(Ql), N\n",
    "    else:\n",
    "        raise Exception(\"error\")"
   ]
  },
  {
   "cell_type": "code",
   "execution_count": 3,
   "id": "81bfcdd1",
   "metadata": {},
   "outputs": [
    {
     "data": {
      "text/plain": [
       "(127.488, 5976)"
      ]
     },
     "execution_count": 3,
     "metadata": {},
     "output_type": "execute_result"
    }
   ],
   "source": [
    "q = 167\n",
    "p2, n2 = 3, 2\n",
    "p3, n3 = 7, 1\n",
    "constant = 6000/128\n",
    "calculate_parameters(q, p2, n2, p3, n3, constant)"
   ]
  },
  {
   "cell_type": "markdown",
   "id": "8394bb47",
   "metadata": {},
   "source": [
    "tradeoff maior o r mais automorfismos e mais overhead de computação por um Q maior"
   ]
  },
  {
   "cell_type": "code",
   "execution_count": 4,
   "id": "50b46e8c",
   "metadata": {},
   "outputs": [
    {
     "name": "stdout",
     "output_type": "stream",
     "text": [
      "46.875\n",
      "69.2578125\n",
      "128.0\n",
      "False\n",
      "True\n"
     ]
    }
   ],
   "source": [
    "from math import log2, ceil, sqrt\n",
    "\n",
    "q = 197\n",
    "p2, n2 = 3, 2\n",
    "p3, n3 = 5, 1\n",
    "m1 , m2, m3 = q, p2**n2, p3**n3\n",
    "N = m1 * m2 * m3\n",
    "\n",
    "r = min(p2**(n2-1) * (p2-1) , p3**(n3-1) * (p3-1))\n",
    "\n",
    "Ql = 2**128\n",
    "n = 500\n",
    "sigma = 3.2\n",
    "base = 2\n",
    "E = 10\n",
    "C=1\n",
    "check(Ql, n, r, q, N, E, C)"
   ]
  },
  {
   "cell_type": "code",
   "execution_count": null,
   "id": "ff101773",
   "metadata": {},
   "outputs": [],
   "source": []
  }
 ],
 "metadata": {
  "kernelspec": {
   "display_name": "Python 3",
   "language": "python",
   "name": "python3"
  },
  "language_info": {
   "codemirror_mode": {
    "name": "ipython",
    "version": 3
   },
   "file_extension": ".py",
   "mimetype": "text/x-python",
   "name": "python",
   "nbconvert_exporter": "python",
   "pygments_lexer": "ipython3",
   "version": "3.10.12"
  }
 },
 "nbformat": 4,
 "nbformat_minor": 5
}
