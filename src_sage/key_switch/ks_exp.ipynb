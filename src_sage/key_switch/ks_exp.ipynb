{
 "cells": [
  {
   "cell_type": "code",
   "execution_count": null,
   "metadata": {},
   "outputs": [],
   "source": [
    "# Only run this cell once to get to the right directory\n",
    "import os\n",
    "os.chdir('../')\n",
    "print(f\"Our new root directory is: {os.getcwd()}\")"
   ]
  },
  {
   "cell_type": "code",
   "execution_count": null,
   "metadata": {},
   "outputs": [],
   "source": [
    "# import the necessary functions \n",
    "load(\"./utils/gadget_matrix.sage\")\n",
    "load(\"./key_switch/RLWE_KS.sage\")"
   ]
  },
  {
   "cell_type": "code",
   "execution_count": null,
   "metadata": {},
   "outputs": [],
   "source": [
    "# Checking encryption-decryption\n",
    "p, n = 2, 4\n",
    "N = p ** n\n",
    "B, q = 2, 2048\n",
    "\n",
    "rlwe = RLWE(N, q, B, sigma=1)\n",
    "\n",
    "m = random_msg_gen(B, N)\n",
    "print(m)\n",
    "c = rlwe.enc(m)\n",
    "d = rlwe.dec(c)\n",
    "print(d)"
   ]
  },
  {
   "cell_type": "code",
   "execution_count": null,
   "metadata": {},
   "outputs": [],
   "source": [
    "new_rlwe = RLWE(N, q, B, sigma = 1)\n",
    "\n",
    "cypher = rlwe.enc(m)\n",
    "print(cypher)\n",
    "\n",
    "print(cypher[1] - rlwe.s*cypher[0] - m * 1024)\n",
    "\n",
    "base = 2\n",
    "K = new_rlwe.enc_sk(rlwe.s, base)\n",
    "\n",
    "new_cypher = key_switch(cypher, K, base,B, q, N)\n",
    "print(new_cypher)\n",
    "\n",
    "print(new_cypher[1] - new_rlwe.s*new_cypher[0] - m * 1024)\n",
    "\n",
    "d = new_rlwe.dec(new_cypher)\n",
    "print(d)"
   ]
  },
  {
   "cell_type": "code",
   "execution_count": null,
   "metadata": {},
   "outputs": [],
   "source": [
    "# Defining the polynomial ring in modulli q \n",
    "\n",
    "f = cyclotomic_polynomial(N)\n",
    "Zqx = ZZ.quotient(q)['x'] \n",
    "Rq = Zqx.quotient(f)"
   ]
  },
  {
   "cell_type": "code",
   "execution_count": null,
   "metadata": {},
   "outputs": [],
   "source": [
    "print(c[1] - c[0] * rlwe.s)"
   ]
  },
  {
   "cell_type": "code",
   "execution_count": null,
   "metadata": {},
   "outputs": [],
   "source": [
    "c = [Rq(round_poly(Zx(c[0].lift()) * B/q)), Rq(round_poly(Zx(c[1].lift()) * B/q))]\n",
    "print(c[0])\n",
    "print(c[1])\n",
    "print(c[1] - c[0] * rlwe.s)"
   ]
  }
 ],
 "metadata": {
  "kernelspec": {
   "display_name": "SageMath 9.5",
   "language": "sage",
   "name": "sagemath"
  },
  "language_info": {
   "codemirror_mode": {
    "name": "ipython",
    "version": 3
   },
   "file_extension": ".py",
   "mimetype": "text/x-python",
   "name": "sage",
   "nbconvert_exporter": "python",
   "pygments_lexer": "ipython3",
   "version": "3.10.12"
  }
 },
 "nbformat": 4,
 "nbformat_minor": 2
}
