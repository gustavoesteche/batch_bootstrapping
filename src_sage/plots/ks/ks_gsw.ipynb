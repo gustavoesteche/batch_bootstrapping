{
 "cells": [
  {
   "cell_type": "code",
   "execution_count": 1,
   "id": "f9072d6b",
   "metadata": {},
   "outputs": [],
   "source": [
    "import matplotlib.pyplot as plt\n",
    "import numpy as np\n",
    "import pandas as pd"
   ]
  },
  {
   "cell_type": "code",
   "execution_count": null,
   "id": "911a13bd",
   "metadata": {},
   "outputs": [],
   "source": [
    "# Read the data\n",
    "data = pd.read_csv(r\"./ks_gsw.csv\")\n",
    "data"
   ]
  },
  {
   "cell_type": "code",
   "execution_count": null,
   "id": "f3f08d53",
   "metadata": {},
   "outputs": [],
   "source": [
    "# initial noise treatment\n",
    "initial_noise_mean = (data['initial_noise'].apply(lambda x:x/100) * data['I'].apply(lambda x:2**x)).mean() \n",
    "N = (2**5) * (3**1) * (5**1)\n",
    "\n",
    "X = np.arange(12, 21.5, 0.1)\n",
    "const = 3\n",
    "Y = const * np.sqrt(N * X) * (initial_noise_mean * 100 / (2**X))\n",
    "X = 2**X"
   ]
  },
  {
   "cell_type": "code",
   "execution_count": null,
   "id": "f3f7db7a",
   "metadata": {},
   "outputs": [],
   "source": [
    "Q = data['I'].apply(lambda x: 2**x)\n",
    "noise = data['noise']\n",
    "\n",
    "# Create plot\n",
    "plt.figure(figsize=(12, 8))\n",
    "plt.plot(X, Y, color='blue', label='Error upperbound')\n",
    "plt.scatter(Q, noise, s=20, color='tab:red', alpha=0.7, edgecolors='none', label='Data')\n",
    "\n",
    "# Axis labels\n",
    "plt.xlabel(r'$q$', fontsize=14)\n",
    "plt.ylabel('Normalized Noise', fontsize=14)\n",
    "\n",
    "# Title\n",
    "plt.title('Normalized Noise After Key Switch vs $q$', fontsize=16)\n",
    "\n",
    "# Grid (both major and minor)\n",
    "plt.grid(True, which='both', linestyle='--', linewidth=1, alpha=0.7)\n",
    "plt.tick_params(axis='both', which='major', labelsize=12)\n",
    "plt.legend(fontsize=12)\n",
    "\n",
    "# Layout\n",
    "plt.tight_layout()\n",
    "plt.savefig(\"key_switch.png\", dpi=300, bbox_inches='tight')\n",
    "plt.show()\n"
   ]
  }
 ],
 "metadata": {
  "kernelspec": {
   "display_name": "Python 3",
   "language": "python",
   "name": "python3"
  },
  "language_info": {
   "codemirror_mode": {
    "name": "ipython",
    "version": 3
   },
   "file_extension": ".py",
   "mimetype": "text/x-python",
   "name": "python",
   "nbconvert_exporter": "python",
   "pygments_lexer": "ipython3",
   "version": "3.10.12"
  }
 },
 "nbformat": 4,
 "nbformat_minor": 5
}
