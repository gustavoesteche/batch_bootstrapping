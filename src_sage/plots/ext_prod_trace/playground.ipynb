{
 "cells": [
  {
   "cell_type": "code",
   "execution_count": 43,
   "id": "d1a0cc26",
   "metadata": {},
   "outputs": [
    {
     "name": "stdout",
     "output_type": "stream",
     "text": [
      "O novo diretório de trabalho é: /home/gesteche/unicamp/ic-bootstraping/src_sage\n"
     ]
    }
   ],
   "source": [
    "# Only run this cell once to get to the right directory\n",
    "import os\n",
    "os.chdir('../')\n",
    "print(f\"Our new root directory is: {os.getcwd()}\")"
   ]
  },
  {
   "cell_type": "code",
   "execution_count": 107,
   "id": "94b225c2",
   "metadata": {},
   "outputs": [],
   "source": [
    "load(\"./GSW/GSW.sage\")\n",
    "load(\"./CRLWE/RLWE.sage\")\n",
    "load(\"./trace/trace_lib.sage\")\n",
    "load(\"./trace/rlwe_homo_trace.sage\")\n",
    "load(\"./ciphertext_operations_article/ciphertext_operations.sage\")"
   ]
  },
  {
   "cell_type": "code",
   "execution_count": null,
   "id": "7c8db286",
   "metadata": {},
   "outputs": [],
   "source": [
    "Zx = ZZ['x']\n",
    "\n",
    "# Setting parameters \n",
    "p1, n1 = 2, 6\n",
    "p2, n2 = 3, 2\n",
    "p3, n3 = 5, 1  \n",
    "prime_powers = [(p1, n1), (p2, n2), (p3, n3)]\n",
    "m1 , m2, m3 = p1**n1, p2**n2, p3**n3\n",
    "n = m1 * m2 * m3\n",
    "\n",
    "r = min(euler_phi(m2), euler_phi(m3))\n",
    "\n",
    "B, q = 2, 2**31-1\n",
    "l = ceil(log(q, B))\n",
    "q = B**l\n",
    "sigma = 3.2\n",
    "base = 2"
   ]
  },
  {
   "cell_type": "code",
   "execution_count": 116,
   "id": "5c9a9797",
   "metadata": {},
   "outputs": [
    {
     "name": "stdout",
     "output_type": "stream",
     "text": [
      "Instância criada\n"
     ]
    }
   ],
   "source": [
    "framework = Operations(n, q, B, prime_powers, base, sigma)\n",
    "print(\"Instância criada\")"
   ]
  },
  {
   "cell_type": "code",
   "execution_count": 117,
   "id": "a959678f",
   "metadata": {},
   "outputs": [],
   "source": [
    "Rb = (ZZ.quotient(B))['x'].quotient(cyclotomic_polynomial(n)) \n",
    "Rq = (ZZ.quotient(q))['x'].quotient(cyclotomic_polynomial(n)) \n"
   ]
  },
  {
   "cell_type": "code",
   "execution_count": 119,
   "id": "5f0f5957",
   "metadata": {},
   "outputs": [
    {
     "name": "stdout",
     "output_type": "stream",
     "text": [
      "2424,4166,5437,5377,6162,6749,9510,9720,7284,7785,12574,10628,9910,12048,11450,17564,10430,12411,19588,13080,"
     ]
    }
   ],
   "source": [
    "rmode = 1\n",
    "gmode = 3\n",
    "\n",
    "tests = 1\n",
    "depth = 20\n",
    "#noise = [0] * depth\n",
    "for _ in range(tests):\n",
    "    msg_rlwe = sample_msg_pkgs_depth(B, n, prime_powers, r)\n",
    "    p_msg_rlwe = pack_msg(msg_rlwe, prime_powers, n, r, rmode, Rq)  \n",
    "    packed_rlwe = framework.pack_rlwe(msg_rlwe, rmode)\n",
    "\n",
    "    msgs_gsw = [] \n",
    "    for i in range(depth):\n",
    "        msg = sample_msg_pkgs_depth(B, n, prime_powers, r)\n",
    "        msgs_gsw.append(msg)\n",
    "\n",
    "    o_gmode = gmode\n",
    "    for i in range(depth):        \n",
    "        #print(\"profundidade \", i)\n",
    "        if gmode % 2:\n",
    "            prime, exponent = p2, n2\n",
    "            fator = n / (p3**n3)\n",
    "        else:\n",
    "            prime, exponent = p3, n3\n",
    "            fator = n / (p2**n2)\n",
    "\n",
    "        # Testing by the trace in the packed message\n",
    "        p_msg_gsw = pack_msg(msgs_gsw[i], prime_powers, n, r, gmode, Rq)\n",
    "        packed_gsw = framework.pack_gsw(msgs_gsw[i], gmode) \n",
    "        tr = Rq(generic_trace(p_msg_rlwe * p_msg_gsw , n, prime, exponent)) * (prime**(exponent)).inverse_mod(q) \n",
    "        tr = Zx(tr.lift())\n",
    "        tr_msg = Zx(Rb(tr).lift())\n",
    "\n",
    "        mult = framework.ext_prod_trace(packed_rlwe, packed_gsw)\n",
    "        result = framework.rlwe.dec(mult[0])\n",
    "\n",
    "        #noise[i] = max(noise[i], framework.rlwe.get_noise(mult[0], tr))\n",
    "        print(framework.rlwe.get_noise(mult[0], tr), end=',')\n",
    "        assert result == tr_msg\n",
    "\n",
    "        packed_rlwe = mult\n",
    "        p_msg_rlwe = tr\n",
    "        if gmode == 4:\n",
    "            gmode = 3\n",
    "        else:\n",
    "            gmode = 4   \n",
    "    gmode = o_gmode"
   ]
  }
 ],
 "metadata": {
  "kernelspec": {
   "display_name": "SageMath 9.5",
   "language": "sage",
   "name": "sagemath"
  },
  "language_info": {
   "codemirror_mode": {
    "name": "ipython",
    "version": 3
   },
   "file_extension": ".py",
   "mimetype": "text/x-python",
   "name": "sage",
   "nbconvert_exporter": "python",
   "pygments_lexer": "ipython3",
   "version": "3.10.12"
  }
 },
 "nbformat": 4,
 "nbformat_minor": 5
}
