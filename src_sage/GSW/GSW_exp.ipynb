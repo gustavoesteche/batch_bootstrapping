{
 "cells": [
  {
   "cell_type": "code",
   "execution_count": null,
   "metadata": {},
   "outputs": [],
   "source": [
    "# Only run this cell once to get to the right directory\n",
    "import os\n",
    "os.chdir('../')\n",
    "print(f\"Our new root directory is: {os.getcwd()}\") "
   ]
  },
  {
   "cell_type": "code",
   "execution_count": null,
   "metadata": {},
   "outputs": [],
   "source": [
    "load(\"./GSW.sage\")"
   ]
  },
  {
   "cell_type": "code",
   "execution_count": null,
   "metadata": {},
   "outputs": [],
   "source": [
    "# Defining parameters and instaciating cypher\n",
    "n = 2 ** 4\n",
    "B, q = 2, 2048\n",
    "sigma = 10\n",
    "    \n",
    "gsw = GSW(n, q, sigma)  "
   ]
  },
  {
   "cell_type": "code",
   "execution_count": null,
   "metadata": {},
   "outputs": [],
   "source": [
    "# Defining the message field\n",
    "fn = Zx(cyclotomic_polynomial(n))\n",
    "Zbx = ZZ.quotient(B)['x'] \n",
    "Rb = Zbx.quotient(fn)\n",
    "\n",
    "# Addition of messages\n",
    "def add(m1, m2):\n",
    "    return Zx(Rb(m1 + m2).lift())\n",
    "\n",
    "# Multiplication of messages\n",
    "def mult(m1, m2):\n",
    "    return Zx(Rb(m1 * m2).lift())"
   ]
  },
  {
   "cell_type": "code",
   "execution_count": null,
   "metadata": {},
   "outputs": [],
   "source": [
    "m = random_msg_gen(B, n)\n",
    "c = gsw.enc(m)"
   ]
  },
  {
   "cell_type": "code",
   "execution_count": null,
   "metadata": {},
   "outputs": [],
   "source": [
    "# testing addition\n",
    "epochs = 10\n",
    "\n",
    "for i in range(epochs):\n",
    "    m1 = random_msg_gen(B, n)\n",
    "    m2 = random_msg_gen(B, n)\n",
    "\n",
    "    c1 = gsw.enc(m1)\n",
    "    c2 = gsw.enc(m2)\n",
    "    m_dec = gsw.dec(gsw.add(c1, c2))\n",
    "\n",
    "    #print(m1)\n",
    "    #print(m2)\n",
    "    #print(m_dec)\n",
    "    #print(add(m1,m2))\n",
    "    assert m_dec == add(m1,m2)\n",
    "\n",
    "print(\"All tests passed\")\n"
   ]
  },
  {
   "cell_type": "code",
   "execution_count": null,
   "metadata": {},
   "outputs": [],
   "source": [
    "# testing multiplication \n",
    "epochs = 10\n",
    "\n",
    "for i in range(epochs):\n",
    "    m1 = random_msg_gen(B, n)\n",
    "    m2 = random_msg_gen(B, n)\n",
    "\n",
    "    c1 = gsw.enc(m1)\n",
    "    c2 = gsw.enc(m2)\n",
    "\n",
    "    m_dec = gsw.dec(gsw.mult(c1, c2))\n",
    "\n",
    "    #print(m1)\n",
    "    #print(m2)\n",
    "    #print(mult(m1,m2))\n",
    "    #print(m_dec)\n",
    "    #assert mult(m1,m2) == m_dec\n",
    "\n",
    "print(\"All tests passed\")"
   ]
  },
  {
   "cell_type": "code",
   "execution_count": null,
   "metadata": {},
   "outputs": [],
   "source": [
    "# testing the simple decryption \n",
    "tests = 10 \n",
    "for i in range(tests):\n",
    "    m = random_msg_gen(B, n)\n",
    "    c = gsw.enc(m)\n",
    "    m_dec = gsw.dec(c)\n",
    "    assert(m == m_dec)\n",
    "    \n",
    "print(\"The cypher is producing the correct decryption\")\n"
   ]
  },
  {
   "cell_type": "code",
   "execution_count": null,
   "metadata": {},
   "outputs": [],
   "source": [
    "# Visualize the Cyphertext\n",
    "print(gsw.enc(random_msg_gen(B, n)))"
   ]
  },
  {
   "cell_type": "code",
   "execution_count": null,
   "metadata": {},
   "outputs": [],
   "source": [
    "# Visualize the Keys\n",
    "gsw.keygen()"
   ]
  }
 ],
 "metadata": {
  "kernelspec": {
   "display_name": "SageMath 9.5",
   "language": "sage",
   "name": "sagemath"
  },
  "language_info": {
   "codemirror_mode": {
    "name": "ipython",
    "version": 3
   },
   "file_extension": ".py",
   "mimetype": "text/x-python",
   "name": "sage",
   "nbconvert_exporter": "python",
   "pygments_lexer": "ipython3",
   "version": "3.10.12"
  }
 },
 "nbformat": 4,
 "nbformat_minor": 2
}
